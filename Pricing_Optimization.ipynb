{
 "cells": [
  {
   "cell_type": "markdown",
   "metadata": {},
   "source": [
    "# Pricing Test "
   ]
  },
  {
   "cell_type": "markdown",
   "metadata": {},
   "source": [
    "#### Problem statement: \n",
    "\n",
    "Company XYZ sells a software for $39. Since revenue has been flat for some time, the VP of  Product has decided to run a test increasing the price. She hopes that this would increase revenue. \n",
    "\n",
    "In the experiment, 66% of the users have seen the old price (\\\\$39), while a random sample of 33% users a higher price (\\\\$59).\n",
    "\n",
    "The test has been running for some time and the VP of Product is interested in understanding how it went and whether it would make sense to increase the price for all the users.\n",
    "\n",
    "Especially he asked you the following questions:\n",
    "\n",
    "- Should the company sell its software for \\\\$39 or \\\\$59?\n",
    "\n",
    "- The VP of Product is interested in having a holistic view into user behavior, especially\n",
    "focusing on actionable insights that might increase conversion rate. What are your main\n",
    "findings looking at the data?\n",
    "\n",
    "- [Bonus] The VP of Product feels that the test has been running for too long and he should\n",
    "have been able to get statistically significant results in a shorter time. Do you agree with\n",
    "her intuition? After how many days you would have stopped the test? Please, explain\n",
    "why."
   ]
  },
  {
   "cell_type": "code",
   "execution_count": 294,
   "metadata": {},
   "outputs": [],
   "source": [
    "import pandas as pd \n",
    "import numpy as np\n",
    "import seaborn as sns\n",
    "import matplotlib.pyplot as plt\n",
    "import plotly.graph_objects as go\n",
    "from scipy.stats import norm "
   ]
  },
  {
   "cell_type": "code",
   "execution_count": 12,
   "metadata": {},
   "outputs": [],
   "source": [
    "user = pd.read_csv('user_table.csv')\n",
    "result = pd.read_csv('test_results.csv')"
   ]
  },
  {
   "cell_type": "code",
   "execution_count": 4,
   "metadata": {},
   "outputs": [
    {
     "data": {
      "text/html": [
       "<div>\n",
       "<style scoped>\n",
       "    .dataframe tbody tr th:only-of-type {\n",
       "        vertical-align: middle;\n",
       "    }\n",
       "\n",
       "    .dataframe tbody tr th {\n",
       "        vertical-align: top;\n",
       "    }\n",
       "\n",
       "    .dataframe thead th {\n",
       "        text-align: right;\n",
       "    }\n",
       "</style>\n",
       "<table border=\"1\" class=\"dataframe\">\n",
       "  <thead>\n",
       "    <tr style=\"text-align: right;\">\n",
       "      <th></th>\n",
       "      <th>user_id</th>\n",
       "      <th>city</th>\n",
       "      <th>country</th>\n",
       "      <th>lat</th>\n",
       "      <th>long</th>\n",
       "    </tr>\n",
       "  </thead>\n",
       "  <tbody>\n",
       "    <tr>\n",
       "      <th>0</th>\n",
       "      <td>510335</td>\n",
       "      <td>Peabody</td>\n",
       "      <td>USA</td>\n",
       "      <td>42.53</td>\n",
       "      <td>-70.97</td>\n",
       "    </tr>\n",
       "    <tr>\n",
       "      <th>1</th>\n",
       "      <td>89568</td>\n",
       "      <td>Reno</td>\n",
       "      <td>USA</td>\n",
       "      <td>39.54</td>\n",
       "      <td>-119.82</td>\n",
       "    </tr>\n",
       "    <tr>\n",
       "      <th>2</th>\n",
       "      <td>434134</td>\n",
       "      <td>Rialto</td>\n",
       "      <td>USA</td>\n",
       "      <td>34.11</td>\n",
       "      <td>-117.39</td>\n",
       "    </tr>\n",
       "  </tbody>\n",
       "</table>\n",
       "</div>"
      ],
      "text/plain": [
       "   user_id     city country    lat    long\n",
       "0   510335  Peabody     USA  42.53  -70.97\n",
       "1    89568     Reno     USA  39.54 -119.82\n",
       "2   434134   Rialto     USA  34.11 -117.39"
      ]
     },
     "execution_count": 4,
     "metadata": {},
     "output_type": "execute_result"
    }
   ],
   "source": [
    "user.head(3)"
   ]
  },
  {
   "cell_type": "code",
   "execution_count": 13,
   "metadata": {
    "scrolled": true
   },
   "outputs": [
    {
     "data": {
      "text/html": [
       "<div>\n",
       "<style scoped>\n",
       "    .dataframe tbody tr th:only-of-type {\n",
       "        vertical-align: middle;\n",
       "    }\n",
       "\n",
       "    .dataframe tbody tr th {\n",
       "        vertical-align: top;\n",
       "    }\n",
       "\n",
       "    .dataframe thead th {\n",
       "        text-align: right;\n",
       "    }\n",
       "</style>\n",
       "<table border=\"1\" class=\"dataframe\">\n",
       "  <thead>\n",
       "    <tr style=\"text-align: right;\">\n",
       "      <th></th>\n",
       "      <th>user_id</th>\n",
       "      <th>timestamp</th>\n",
       "      <th>source</th>\n",
       "      <th>device</th>\n",
       "      <th>operative_system</th>\n",
       "      <th>test</th>\n",
       "      <th>price</th>\n",
       "      <th>converted</th>\n",
       "    </tr>\n",
       "  </thead>\n",
       "  <tbody>\n",
       "    <tr>\n",
       "      <th>0</th>\n",
       "      <td>604839</td>\n",
       "      <td>2015-05-08 03:38:34</td>\n",
       "      <td>ads_facebook</td>\n",
       "      <td>mobile</td>\n",
       "      <td>iOS</td>\n",
       "      <td>0</td>\n",
       "      <td>39</td>\n",
       "      <td>0</td>\n",
       "    </tr>\n",
       "    <tr>\n",
       "      <th>1</th>\n",
       "      <td>624057</td>\n",
       "      <td>2015-05-10 21:08:46</td>\n",
       "      <td>seo-google</td>\n",
       "      <td>mobile</td>\n",
       "      <td>android</td>\n",
       "      <td>0</td>\n",
       "      <td>39</td>\n",
       "      <td>0</td>\n",
       "    </tr>\n",
       "    <tr>\n",
       "      <th>2</th>\n",
       "      <td>317970</td>\n",
       "      <td>2015-04-04 15:01:23</td>\n",
       "      <td>ads-bing</td>\n",
       "      <td>mobile</td>\n",
       "      <td>android</td>\n",
       "      <td>0</td>\n",
       "      <td>39</td>\n",
       "      <td>0</td>\n",
       "    </tr>\n",
       "  </tbody>\n",
       "</table>\n",
       "</div>"
      ],
      "text/plain": [
       "   user_id            timestamp        source  device operative_system  test  \\\n",
       "0   604839  2015-05-08 03:38:34  ads_facebook  mobile              iOS     0   \n",
       "1   624057  2015-05-10 21:08:46    seo-google  mobile          android     0   \n",
       "2   317970  2015-04-04 15:01:23      ads-bing  mobile          android     0   \n",
       "\n",
       "   price  converted  \n",
       "0     39          0  \n",
       "1     39          0  \n",
       "2     39          0  "
      ]
     },
     "execution_count": 13,
     "metadata": {},
     "output_type": "execute_result"
    }
   ],
   "source": [
    "result.head(3)"
   ]
  },
  {
   "cell_type": "markdown",
   "metadata": {},
   "source": [
    "### 1. Data Processing and Cleaning"
   ]
  },
  {
   "cell_type": "code",
   "execution_count": 202,
   "metadata": {},
   "outputs": [
    {
     "name": "stdout",
     "output_type": "stream",
     "text": [
      "user_table:\t (275616,)\n",
      "test_results:\t (316800,)\n"
     ]
    }
   ],
   "source": [
    "print('user_table:\\t', user['user_id'].unique().shape)\n",
    "print('test_results:\\t', result['user_id'].unique().shape)"
   ]
  },
  {
   "cell_type": "code",
   "execution_count": 203,
   "metadata": {},
   "outputs": [],
   "source": [
    "# merges two dataset \n",
    "df = result.merge(user, on = 'user_id', how = 'left')"
   ]
  },
  {
   "cell_type": "markdown",
   "metadata": {},
   "source": [
    "Some possible data quality issues are: visitors in the test group are shown with \\\\$39 and visitors in the control group are shown with \\\\$59. Let's take a look at this issue."
   ]
  },
  {
   "cell_type": "code",
   "execution_count": 204,
   "metadata": {},
   "outputs": [
    {
     "data": {
      "text/html": [
       "<div>\n",
       "<style scoped>\n",
       "    .dataframe tbody tr th:only-of-type {\n",
       "        vertical-align: middle;\n",
       "    }\n",
       "\n",
       "    .dataframe tbody tr th {\n",
       "        vertical-align: top;\n",
       "    }\n",
       "\n",
       "    .dataframe thead th {\n",
       "        text-align: right;\n",
       "    }\n",
       "</style>\n",
       "<table border=\"1\" class=\"dataframe\">\n",
       "  <thead>\n",
       "    <tr style=\"text-align: right;\">\n",
       "      <th></th>\n",
       "      <th></th>\n",
       "      <th>user_id</th>\n",
       "    </tr>\n",
       "    <tr>\n",
       "      <th>test</th>\n",
       "      <th>price</th>\n",
       "      <th></th>\n",
       "    </tr>\n",
       "  </thead>\n",
       "  <tbody>\n",
       "    <tr>\n",
       "      <th rowspan=\"2\" valign=\"top\">0</th>\n",
       "      <th>39</th>\n",
       "      <td>202517</td>\n",
       "    </tr>\n",
       "    <tr>\n",
       "      <th>59</th>\n",
       "      <td>210</td>\n",
       "    </tr>\n",
       "    <tr>\n",
       "      <th rowspan=\"2\" valign=\"top\">1</th>\n",
       "      <th>39</th>\n",
       "      <td>155</td>\n",
       "    </tr>\n",
       "    <tr>\n",
       "      <th>59</th>\n",
       "      <td>113918</td>\n",
       "    </tr>\n",
       "  </tbody>\n",
       "</table>\n",
       "</div>"
      ],
      "text/plain": [
       "            user_id\n",
       "test price         \n",
       "0    39      202517\n",
       "     59         210\n",
       "1    39         155\n",
       "     59      113918"
      ]
     },
     "execution_count": 204,
     "metadata": {},
     "output_type": "execute_result"
    }
   ],
   "source": [
    "df[['price', 'test', 'user_id']].groupby(['test', 'price']).count()"
   ]
  },
  {
   "cell_type": "markdown",
   "metadata": {},
   "source": [
    "We will remove the problematic data since they are only a small portion of the dataset."
   ]
  },
  {
   "cell_type": "code",
   "execution_count": 207,
   "metadata": {},
   "outputs": [],
   "source": [
    "df = df[((df['test'] == 1) & (df['price'] == 59)) | ((df['test'] == 0) & (df['price'] == 39))]"
   ]
  },
  {
   "cell_type": "markdown",
   "metadata": {},
   "source": [
    "We will create a new column called `Revenue`, which is how much the company gain from each user's purchase. "
   ]
  },
  {
   "cell_type": "code",
   "execution_count": 210,
   "metadata": {},
   "outputs": [],
   "source": [
    "df['revenue'] = df['converted'] * df['price']"
   ]
  },
  {
   "cell_type": "markdown",
   "metadata": {},
   "source": [
    "### 2. Inital Data Understanding"
   ]
  },
  {
   "cell_type": "markdown",
   "metadata": {},
   "source": [
    "As the first step of analysis, we want to understand the demographics of site visitors by looking at what source they come from, what device and what operative system they use. "
   ]
  },
  {
   "cell_type": "markdown",
   "metadata": {},
   "source": [
    "- ####  Volume of visitors by source"
   ]
  },
  {
   "cell_type": "code",
   "execution_count": 283,
   "metadata": {},
   "outputs": [
    {
     "data": {
      "text/html": [
       "<div>\n",
       "<style scoped>\n",
       "    .dataframe tbody tr th:only-of-type {\n",
       "        vertical-align: middle;\n",
       "    }\n",
       "\n",
       "    .dataframe tbody tr th {\n",
       "        vertical-align: top;\n",
       "    }\n",
       "\n",
       "    .dataframe thead th {\n",
       "        text-align: right;\n",
       "    }\n",
       "</style>\n",
       "<table border=\"1\" class=\"dataframe\">\n",
       "  <thead>\n",
       "    <tr style=\"text-align: right;\">\n",
       "      <th></th>\n",
       "      <th>source</th>\n",
       "      <th>number_of_visitors</th>\n",
       "      <th>percent_of_visitors(%)</th>\n",
       "    </tr>\n",
       "  </thead>\n",
       "  <tbody>\n",
       "    <tr>\n",
       "      <th>5</th>\n",
       "      <td>direct_traffic</td>\n",
       "      <td>60272</td>\n",
       "      <td>19.047198</td>\n",
       "    </tr>\n",
       "    <tr>\n",
       "      <th>1</th>\n",
       "      <td>ads-google</td>\n",
       "      <td>59342</td>\n",
       "      <td>18.753298</td>\n",
       "    </tr>\n",
       "    <tr>\n",
       "      <th>3</th>\n",
       "      <td>ads_facebook</td>\n",
       "      <td>53355</td>\n",
       "      <td>16.861283</td>\n",
       "    </tr>\n",
       "    <tr>\n",
       "      <th>4</th>\n",
       "      <td>ads_other</td>\n",
       "      <td>29826</td>\n",
       "      <td>9.425632</td>\n",
       "    </tr>\n",
       "    <tr>\n",
       "      <th>8</th>\n",
       "      <td>seo-google</td>\n",
       "      <td>23148</td>\n",
       "      <td>7.315246</td>\n",
       "    </tr>\n",
       "  </tbody>\n",
       "</table>\n",
       "</div>"
      ],
      "text/plain": [
       "           source  number_of_visitors  percent_of_visitors(%)\n",
       "5  direct_traffic               60272               19.047198\n",
       "1      ads-google               59342               18.753298\n",
       "3    ads_facebook               53355               16.861283\n",
       "4       ads_other               29826                9.425632\n",
       "8      seo-google               23148                7.315246"
      ]
     },
     "execution_count": 283,
     "metadata": {},
     "output_type": "execute_result"
    }
   ],
   "source": [
    "groupby_source = df.groupby('source').size().reset_index(name = 'number_of_visitors').sort_values(by = 'number_of_visitors', ascending = False)\n",
    "groupby_source['percent_of_visitors(%)'] = 100 * groupby_source['number_of_visitors'] / sum(groupby_source['number_of_visitors'])\n",
    "groupby_source.head(5)"
   ]
  },
  {
   "cell_type": "markdown",
   "metadata": {},
   "source": [
    "Based on the barplot above, we observe that most of the visitors come to the site by `direct_traffic`, `google ads` and `facebook ads`. "
   ]
  },
  {
   "cell_type": "markdown",
   "metadata": {},
   "source": [
    "- #### Volume of visitors by device"
   ]
  },
  {
   "cell_type": "code",
   "execution_count": 295,
   "metadata": {},
   "outputs": [
    {
     "data": {
      "text/html": [
       "<div>\n",
       "<style scoped>\n",
       "    .dataframe tbody tr th:only-of-type {\n",
       "        vertical-align: middle;\n",
       "    }\n",
       "\n",
       "    .dataframe tbody tr th {\n",
       "        vertical-align: top;\n",
       "    }\n",
       "\n",
       "    .dataframe thead th {\n",
       "        text-align: right;\n",
       "    }\n",
       "</style>\n",
       "<table border=\"1\" class=\"dataframe\">\n",
       "  <thead>\n",
       "    <tr style=\"text-align: right;\">\n",
       "      <th></th>\n",
       "      <th>device</th>\n",
       "      <th>number_of_visitors</th>\n",
       "      <th>percent_of_visitors(%)</th>\n",
       "    </tr>\n",
       "  </thead>\n",
       "  <tbody>\n",
       "    <tr>\n",
       "      <th>0</th>\n",
       "      <td>mobile</td>\n",
       "      <td>186267</td>\n",
       "      <td>58.864222</td>\n",
       "    </tr>\n",
       "    <tr>\n",
       "      <th>1</th>\n",
       "      <td>web</td>\n",
       "      <td>130168</td>\n",
       "      <td>41.135778</td>\n",
       "    </tr>\n",
       "  </tbody>\n",
       "</table>\n",
       "</div>"
      ],
      "text/plain": [
       "   device  number_of_visitors  percent_of_visitors(%)\n",
       "0  mobile              186267               58.864222\n",
       "1     web              130168               41.135778"
      ]
     },
     "execution_count": 295,
     "metadata": {},
     "output_type": "execute_result"
    }
   ],
   "source": [
    "groupby_device = df.groupby('device').size().reset_index(name = 'number_of_visitors').sort_values(by = 'number_of_visitors', ascending = False)\n",
    "groupby_device['percent_of_visitors(%)'] = 100 * groupby_device['number_of_visitors'] / sum(groupby_device['number_of_visitors'])\n",
    "groupby_device"
   ]
  },
  {
   "cell_type": "markdown",
   "metadata": {},
   "source": [
    "We observe that most of the visitors come to the site by `mobile`. "
   ]
  },
  {
   "cell_type": "markdown",
   "metadata": {},
   "source": [
    "- #### Duration of the experiment "
   ]
  },
  {
   "cell_type": "code",
   "execution_count": 286,
   "metadata": {},
   "outputs": [
    {
     "name": "stdout",
     "output_type": "stream",
     "text": [
      "The experiment started on 2015-03-02 00:04:12 and ended on 2015-05-31 23:59:45\n"
     ]
    }
   ],
   "source": [
    "print('The experiment started on', df['timestamp'].min(), 'and ended on', df['timestamp'].max())"
   ]
  },
  {
   "cell_type": "markdown",
   "metadata": {},
   "source": [
    "We can see that the experiment has run for roughly 2 months. "
   ]
  },
  {
   "cell_type": "markdown",
   "metadata": {},
   "source": [
    "### 3. Analysis of the result of A/B testing"
   ]
  },
  {
   "cell_type": "markdown",
   "metadata": {},
   "source": [
    "- #### Overall difference in conversion rate "
   ]
  },
  {
   "cell_type": "code",
   "execution_count": 304,
   "metadata": {
    "scrolled": true
   },
   "outputs": [
    {
     "data": {
      "text/html": [
       "<div>\n",
       "<style scoped>\n",
       "    .dataframe tbody tr th:only-of-type {\n",
       "        vertical-align: middle;\n",
       "    }\n",
       "\n",
       "    .dataframe tbody tr th {\n",
       "        vertical-align: top;\n",
       "    }\n",
       "\n",
       "    .dataframe thead th {\n",
       "        text-align: right;\n",
       "    }\n",
       "</style>\n",
       "<table border=\"1\" class=\"dataframe\">\n",
       "  <thead>\n",
       "    <tr style=\"text-align: right;\">\n",
       "      <th></th>\n",
       "      <th>visitors</th>\n",
       "      <th>converts</th>\n",
       "      <th>conversion_rate</th>\n",
       "    </tr>\n",
       "  </thead>\n",
       "  <tbody>\n",
       "    <tr>\n",
       "      <th>test group ($59)</th>\n",
       "      <td>113918</td>\n",
       "      <td>1772</td>\n",
       "      <td>0.0156</td>\n",
       "    </tr>\n",
       "    <tr>\n",
       "      <th>control group ($39)</th>\n",
       "      <td>202517</td>\n",
       "      <td>198487</td>\n",
       "      <td>0.0199</td>\n",
       "    </tr>\n",
       "  </tbody>\n",
       "</table>\n",
       "</div>"
      ],
      "text/plain": [
       "                     visitors  converts  conversion_rate\n",
       "test group ($59)       113918      1772           0.0156\n",
       "control group ($39)    202517    198487           0.0199"
      ]
     },
     "execution_count": 304,
     "metadata": {},
     "output_type": "execute_result"
    }
   ],
   "source": [
    "test = df[df['test'] == 1]\n",
    "control= df[df['test'] == 0]\n",
    "test_conversion = round(len(test[test['converted'] == 1]) / len(test), 4)\n",
    "control_conversion = round(len(control[control['converted'] == 1]) / len(control), 4)\n",
    "pd.DataFrame(data = {'visitors' : [len(test), len(control)],\n",
    "                     'converts': [len(test[test['converted'] == 1]), len(control[control['converted'] == 0])],\n",
    "                    'conversion_rate': [test_conversion, control_conversion]}, index = ['test group ($59)', 'control group ($39)'])"
   ]
  },
  {
   "cell_type": "markdown",
   "metadata": {},
   "source": [
    "The overall conversion rate for control group is higher than that of test group. We want to further break down the difference in conversion rate by several other factors like `source`, `device` and `user demographics` to see if this still holds true. "
   ]
  },
  {
   "cell_type": "markdown",
   "metadata": {},
   "source": [
    "- #### Difference in conversion rate by source"
   ]
  },
  {
   "cell_type": "code",
   "execution_count": 222,
   "metadata": {},
   "outputs": [
    {
     "data": {
      "image/png": "[encoded data removed]",
      "text/plain": [
       "<Figure size 1152x432 with 1 Axes>"
      ]
     },
     "metadata": {
      "needs_background": "light"
     },
     "output_type": "display_data"
    }
   ],
   "source": [
    "fig, ax = plt.subplots(figsize=(16, 6))\n",
    "sns.barplot(x='source', y='converted', hue='test', data=df, ax=ax)\n",
    "ax.set_title('Mean Conversion Rate vs. Source', fontsize=16)\n",
    "plt.show()"
   ]
  },
  {
   "cell_type": "markdown",
   "metadata": {},
   "source": [
    "From the barplot above, the converion rate for control group is consistently higher than that of test group across all sources. \n",
    "\n",
    "Interestingly, the conversion rate in `friend referral` channel is particularly higher than all the other sources. "
   ]
  },
  {
   "cell_type": "markdown",
   "metadata": {},
   "source": [
    "- #### Difference in conversion rate by device"
   ]
  },
  {
   "cell_type": "code",
   "execution_count": 224,
   "metadata": {},
   "outputs": [
    {
     "data": {
      "image/png": "[encoded data removed]",
      "text/plain": [
       "<Figure size 504x324 with 1 Axes>"
      ]
     },
     "metadata": {
      "needs_background": "light"
     },
     "output_type": "display_data"
    }
   ],
   "source": [
    "fig, ax = plt.subplots(figsize=(7, 4.5))\n",
    "sns.barplot(x='device', y='converted', hue='test', data=df, ax=ax)\n",
    "ax.set_title('Mean Conversion Rate vs. Source', fontsize=16)\n",
    "plt.show()"
   ]
  },
  {
   "cell_type": "markdown",
   "metadata": {},
   "source": [
    "The conversion rate for control group is higher than that of test group regardless of what device the users are on. \n",
    "\n",
    "Unlike the impact of `source` on conversion rate, the influence of `device` on conversion rate is not significant.  "
   ]
  },
  {
   "cell_type": "markdown",
   "metadata": {},
   "source": [
    "- #### Difference in conversion rate by operative system. "
   ]
  },
  {
   "cell_type": "code",
   "execution_count": 227,
   "metadata": {},
   "outputs": [
    {
     "data": {
      "image/png": "[encoded data removed]",
      "text/plain": [
       "<Figure size 540x324 with 1 Axes>"
      ]
     },
     "metadata": {
      "needs_background": "light"
     },
     "output_type": "display_data"
    }
   ],
   "source": [
    "fig, ax = plt.subplots(figsize=(7.5, 4.5))\n",
    "sns.barplot(x='operative_system', y='converted', hue='test', data=df, ax=ax)\n",
    "ax.set_title('Mean Conversion Rate vs. Operative system', fontsize=16)\n",
    "plt.show()"
   ]
  },
  {
   "cell_type": "markdown",
   "metadata": {},
   "source": [
    "Among all the operative systems, MAC users have the highest conversion rate. \n",
    "\n",
    "For Linux users, the conversion rate in the test group is 0 (there are 1926 Linux users in the test group).  Further analysis is encouraged to understand why users on Linux have such low conversion rates. There might be some compatibility issues with Linux system which caused troubles for the users to complete their purchase. "
   ]
  },
  {
   "cell_type": "markdown",
   "metadata": {},
   "source": [
    "### Conclusion & Recommendations "
   ]
  },
  {
   "cell_type": "markdown",
   "metadata": {},
   "source": [
    "Based on my analysis above, the company should not sell the software at \\\\$59 because the results have shown that the conversion rate in the control group is higher than that in the test group, and this is true for all the devices, sources and operative systems. \n",
    "\n",
    "For `source`, friend referral is proven to have the highest conversion rate in both test and control group. With that being said, the company should focus on developing friend referral rewards program in order to maximize the benefits it could gain from friends' referral. \n",
    "\n",
    "For `device`, both mobile and web have similar converion rate and thus the choice of device has no significant impact on users' purchase. \n",
    "\n",
    "For `operative system`, MAC users have the highest converion rate. Linux users in the control group have 0 conversion rate and it's important to conduct further analysis using additional data to understand why Linux users have such low conversion rates. "
   ]
  },
  {
   "cell_type": "code",
   "execution_count": null,
   "metadata": {},
   "outputs": [],
   "source": []
  }
 ],
 "metadata": {
  "kernelspec": {
   "display_name": "Python 3",
   "language": "python",
   "name": "python3"
  },
  "language_info": {
   "codemirror_mode": {
    "name": "ipython",
    "version": 3
   },
   "file_extension": ".py",
   "mimetype": "text/x-python",
   "name": "python",
   "nbconvert_exporter": "python",
   "pygments_lexer": "ipython3",
   "version": "3.7.3"
  }
 },
 "nbformat": 4,
 "nbformat_minor": 2
}
